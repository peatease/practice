{
  "nbformat": 4,
  "nbformat_minor": 0,
  "metadata": {
    "colab": {
      "name": "Champter2.ipynb",
      "provenance": [],
      "authorship_tag": "ABX9TyNsHIuK7fPMgmx8WuQSrssu",
      "include_colab_link": true
    },
    "kernelspec": {
      "name": "python3",
      "display_name": "Python 3"
    },
    "language_info": {
      "name": "python"
    }
  },
  "cells": [
    {
      "cell_type": "markdown",
      "metadata": {
        "id": "view-in-github",
        "colab_type": "text"
      },
      "source": [
        "<a href=\"https://colab.research.google.com/github/peatease/practice/blob/main/Champter2.ipynb\" target=\"_parent\"><img src=\"https://colab.research.google.com/assets/colab-badge.svg\" alt=\"Open In Colab\"/></a>"
      ]
    },
    {
      "cell_type": "code",
      "metadata": {
        "colab": {
          "base_uri": "https://localhost:8080/"
        },
        "id": "0wB439sgfiBh",
        "outputId": "2d89e9d2-c2e2-4d0f-9c1e-0ac7b13796be"
      },
      "source": [
        "my_list_one = [1 ,2 ,3 ,4]\n",
        "my_list_two = [\"item\" , 1 ,2 ,3 ,4]\n",
        "my_list_three = [my_list_one ,my_list_two]\n",
        "my_list_three"
      ],
      "execution_count": null,
      "outputs": [
        {
          "output_type": "execute_result",
          "data": {
            "text/plain": [
              "[[1, 2, 3, 4], ['item', 1, 2, 3, 4]]"
            ]
          },
          "metadata": {
            "tags": []
          },
          "execution_count": 1
        }
      ]
    },
    {
      "cell_type": "code",
      "metadata": {
        "id": "4re5WYvzfq_D",
        "colab": {
          "base_uri": "https://localhost:8080/",
          "height": 35
        },
        "outputId": "71264181-5d5f-4d76-cb58-b0fddfe85fb2"
      },
      "source": [
        "# players = [{\n",
        "#     'name':'Julio Jones',\n",
        "#     'catches':99,\n",
        "#     'targets':157\n",
        "# },{\n",
        "#     'name':'Davante Adams',\n",
        "#    'catches': 83,\n",
        "#    'targets': 127\n",
        "# },{\n",
        "#     'name': 'Michael Thomas',\n",
        "#    'catches': 149,\n",
        "#    'targets': 185\n",
        "# }]\n",
        "\n",
        "player = {\n",
        "    'name':'Julio Jones',\n",
        "    'catches':99,\n",
        "    'targets':157   \n",
        "}\n",
        "\n",
        "name = player['name']\n",
        "catches = player['catches']\n",
        "targets = player['targets']\n",
        "catch_rate = catches/targets\n",
        "catch_rate\n",
        "name + ' has a catch rate of ' + str(catch_rate)"
      ],
      "execution_count": null,
      "outputs": [
        {
          "output_type": "execute_result",
          "data": {
            "application/vnd.google.colaboratory.intrinsic+json": {
              "type": "string"
            },
            "text/plain": [
              "'Julio Jones has a catch rate of 0.6305732484076433'"
            ]
          },
          "metadata": {},
          "execution_count": 5
        }
      ]
    },
    {
      "cell_type": "code",
      "metadata": {
        "colab": {
          "base_uri": "https://localhost:8080/"
        },
        "id": "-mH2qwXdLZ9R",
        "outputId": "4cfcb7a9-84ae-419a-9916-2bd1bbcc855e"
      },
      "source": [
        "players = [{\n",
        "    'name':'Julio Jones',\n",
        "    'catches':99,\n",
        "    'targets':157\n",
        "},{\n",
        "    'name':'Davante Adams',\n",
        "   'catches': 83,\n",
        "   'targets': 127\n",
        "},{\n",
        "    'name': 'Michael Thomas',\n",
        "   'catches': 149,\n",
        "   'targets': 185\n",
        "},{\n",
        "     'name': 'Tyler Lockett',\n",
        "   'catches': 82,\n",
        "   'targets': 110\n",
        "}]\n",
        "\n",
        "for player in players:\n",
        "  name = player[\"name\"]\n",
        "  catches = player[\"catches\"]\n",
        "  targets = player[\"targets\"]\n",
        "  catch_rate = catches/targets\n",
        "  print(name + ' has a catch rate of ' + str(catch_rate))"
      ],
      "execution_count": null,
      "outputs": [
        {
          "output_type": "stream",
          "name": "stdout",
          "text": [
            "Julio Jones has a catch rate of 0.6305732484076433\n",
            "Davante Adams has a catch rate of 0.6535433070866141\n",
            "Michael Thomas has a catch rate of 0.8054054054054054\n",
            "Tyler Lockett has a catch rate of 0.7454545454545455\n"
          ]
        }
      ]
    },
    {
      "cell_type": "code",
      "metadata": {
        "colab": {
          "base_uri": "https://localhost:8080/"
        },
        "id": "tIGM9lR-QQic",
        "outputId": "1a75e221-7e08-45ea-9bd9-d1826e815760"
      },
      "source": [
        "#Official player stats for 2019\n",
        "\n",
        "players = [{\n",
        "   'name': 'Julio Jones',\n",
        "   'catches': 99,\n",
        "   'targets': 157\n",
        "   },\n",
        "   {\n",
        "   'name': 'Davante Adams',\n",
        "   'catches': 83,\n",
        "   'targets': 127\n",
        "   },\n",
        "   {\n",
        "   'name': 'Michael Thomas',\n",
        "   'catches': 149,\n",
        "   'targets': 185\n",
        "   },\n",
        "]\n",
        "\n",
        "def get_catch_rate(player):\n",
        "    if type(player) is not dict:\n",
        "       print('You need to pass in a dictionary!')\n",
        "       return\n",
        "    else:\n",
        "       pass\n",
        "\n",
        "    catches = player['catches']\n",
        "    targets = player['targets']\n",
        "\n",
        "    if catches > targets:\n",
        "       print('You can not have more catches than targets')\n",
        "       return\n",
        "    else:\n",
        "       pass\n",
        "\n",
        "    catch_rate = catches/targets\n",
        "\n",
        "    return catch_rate\n",
        "\n",
        "julio = players[0]\n",
        "julios_catch_rate = get_catch_rate(julio)\n",
        "print(julios_catch_rate)"
      ],
      "execution_count": null,
      "outputs": [
        {
          "output_type": "stream",
          "name": "stdout",
          "text": [
            "0.6305732484076433\n"
          ]
        }
      ]
    }
  ]
}